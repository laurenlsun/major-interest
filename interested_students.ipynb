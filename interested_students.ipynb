{
 "cells": [
  {
   "cell_type": "markdown",
   "id": "ff0418c3",
   "metadata": {},
   "source": [
    "### imports"
   ]
  },
  {
   "cell_type": "code",
   "execution_count": 53,
   "id": "96949366",
   "metadata": {},
   "outputs": [],
   "source": [
    "import pandas as pd"
   ]
  },
  {
   "cell_type": "code",
   "execution_count": 55,
   "id": "a194c0da",
   "metadata": {},
   "outputs": [],
   "source": [
    "responses = pd.read_csv('major_responses_anon.csv')\n",
    "departments = pd.read_csv('departments.csv')"
   ]
  },
  {
   "cell_type": "markdown",
   "id": "8bf4bc20",
   "metadata": {},
   "source": [
    "look at data to figure out types"
   ]
  },
  {
   "cell_type": "code",
   "execution_count": 56,
   "id": "fd8f2796",
   "metadata": {
    "scrolled": true
   },
   "outputs": [
    {
     "data": {
      "text/html": [
       "<div>\n",
       "<style scoped>\n",
       "    .dataframe tbody tr th:only-of-type {\n",
       "        vertical-align: middle;\n",
       "    }\n",
       "\n",
       "    .dataframe tbody tr th {\n",
       "        vertical-align: top;\n",
       "    }\n",
       "\n",
       "    .dataframe thead th {\n",
       "        text-align: right;\n",
       "    }\n",
       "</style>\n",
       "<table border=\"1\" class=\"dataframe\">\n",
       "  <thead>\n",
       "    <tr style=\"text-align: right;\">\n",
       "      <th></th>\n",
       "      <th>Timestamp</th>\n",
       "      <th>First Name:</th>\n",
       "      <th>Last Name:</th>\n",
       "      <th>USC ID</th>\n",
       "      <th>USC Email Address:</th>\n",
       "      <th>Majors of interest/exploration: (You may select more than one major)</th>\n",
       "      <th>Are you interested in information on one or more Dornsife minors? If so, please indicate minor(s) of interest.</th>\n",
       "      <th>Are you interested in information on a pre-professional emphasis, such as pre-med, pre-dentistry, pre-law, or pre-graduate school? If so, please indicate area(s) of interest.</th>\n",
       "      <th>Are you interested in information on Dornsife Career Pathways?</th>\n",
       "      <th>Are you interested in information on Postbaccalaureate Premedical Program?</th>\n",
       "    </tr>\n",
       "  </thead>\n",
       "  <tbody>\n",
       "    <tr>\n",
       "      <th>0</th>\n",
       "      <td>9/20/2022 10:03</td>\n",
       "      <td>Firstname2</td>\n",
       "      <td>Lastname2</td>\n",
       "      <td>1000000002</td>\n",
       "      <td>user2@usc.gmail.com</td>\n",
       "      <td>American Studies and Ethnicity, American Studi...</td>\n",
       "      <td>African American studies, American studies and...</td>\n",
       "      <td>Pre graduate school</td>\n",
       "      <td>Yes</td>\n",
       "      <td>No</td>\n",
       "    </tr>\n",
       "    <tr>\n",
       "      <th>1</th>\n",
       "      <td>9/20/2022 10:26</td>\n",
       "      <td>Firstname3</td>\n",
       "      <td>Lastname3</td>\n",
       "      <td>1000000003</td>\n",
       "      <td>user3@usc.gmail.com</td>\n",
       "      <td>Statistics</td>\n",
       "      <td>NaN</td>\n",
       "      <td>NaN</td>\n",
       "      <td>NaN</td>\n",
       "      <td>NaN</td>\n",
       "    </tr>\n",
       "    <tr>\n",
       "      <th>2</th>\n",
       "      <td>9/20/2022 10:27</td>\n",
       "      <td>Firstname4</td>\n",
       "      <td>Lastname4</td>\n",
       "      <td>1000000004</td>\n",
       "      <td>user4@usc.gmail.com</td>\n",
       "      <td>Intelligence and Cyber Operations</td>\n",
       "      <td>NaN</td>\n",
       "      <td>NaN</td>\n",
       "      <td>Yes</td>\n",
       "      <td>No</td>\n",
       "    </tr>\n",
       "    <tr>\n",
       "      <th>3</th>\n",
       "      <td>9/20/2022 10:53</td>\n",
       "      <td>Firstname5</td>\n",
       "      <td>Lastname5</td>\n",
       "      <td>1000000005</td>\n",
       "      <td>user5@usc.gmail.com</td>\n",
       "      <td>Economics and Data Science</td>\n",
       "      <td>NaN</td>\n",
       "      <td>NaN</td>\n",
       "      <td>No</td>\n",
       "      <td>No</td>\n",
       "    </tr>\n",
       "    <tr>\n",
       "      <th>4</th>\n",
       "      <td>9/20/2022 10:54</td>\n",
       "      <td>Firstname6</td>\n",
       "      <td>Lastname6</td>\n",
       "      <td>1000000006</td>\n",
       "      <td>user6@usc.gmail.com</td>\n",
       "      <td>East Asian Languages and Cultures</td>\n",
       "      <td>NaN</td>\n",
       "      <td>No</td>\n",
       "      <td>No</td>\n",
       "      <td>No</td>\n",
       "    </tr>\n",
       "  </tbody>\n",
       "</table>\n",
       "</div>"
      ],
      "text/plain": [
       "         Timestamp First Name: Last Name:      USC ID   USC Email Address:  \\\n",
       "0  9/20/2022 10:03  Firstname2  Lastname2  1000000002  user2@usc.gmail.com   \n",
       "1  9/20/2022 10:26  Firstname3  Lastname3  1000000003  user3@usc.gmail.com   \n",
       "2  9/20/2022 10:27  Firstname4  Lastname4  1000000004  user4@usc.gmail.com   \n",
       "3  9/20/2022 10:53  Firstname5  Lastname5  1000000005  user5@usc.gmail.com   \n",
       "4  9/20/2022 10:54  Firstname6  Lastname6  1000000006  user6@usc.gmail.com   \n",
       "\n",
       "  Majors of interest/exploration: (You may select more than one major)  \\\n",
       "0  American Studies and Ethnicity, American Studi...                     \n",
       "1                                         Statistics                     \n",
       "2                  Intelligence and Cyber Operations                     \n",
       "3                         Economics and Data Science                     \n",
       "4                  East Asian Languages and Cultures                     \n",
       "\n",
       "  Are you interested in information on one or more Dornsife minors? If so, please indicate minor(s) of interest.  \\\n",
       "0  African American studies, American studies and...                                                               \n",
       "1                                                NaN                                                               \n",
       "2                                                NaN                                                               \n",
       "3                                                NaN                                                               \n",
       "4                                                NaN                                                               \n",
       "\n",
       "  Are you interested in information on a pre-professional emphasis, such as pre-med, pre-dentistry, pre-law, or pre-graduate school? If so, please indicate area(s) of interest.  \\\n",
       "0                               Pre graduate school                                                                                                                                \n",
       "1                                                NaN                                                                                                                               \n",
       "2                                                NaN                                                                                                                               \n",
       "3                                                NaN                                                                                                                               \n",
       "4                                                 No                                                                                                                               \n",
       "\n",
       "  Are you interested in information on Dornsife Career Pathways?  \\\n",
       "0                                                Yes               \n",
       "1                                                NaN               \n",
       "2                                                Yes               \n",
       "3                                                 No               \n",
       "4                                                 No               \n",
       "\n",
       "  Are you interested in information on Postbaccalaureate Premedical Program?  \n",
       "0                                                 No                          \n",
       "1                                                NaN                          \n",
       "2                                                 No                          \n",
       "3                                                 No                          \n",
       "4                                                 No                          "
      ]
     },
     "execution_count": 56,
     "metadata": {},
     "output_type": "execute_result"
    }
   ],
   "source": [
    "responses.head()"
   ]
  },
  {
   "cell_type": "code",
   "execution_count": 57,
   "id": "35027ebb",
   "metadata": {},
   "outputs": [
    {
     "name": "stdout",
     "output_type": "stream",
     "text": [
      "African American Studies; American Popular Culture; American Studies and Ethnicity; Asian American Studies; Chicano/Latino Studies \n"
     ]
    }
   ],
   "source": [
    "print(departments['Majors'][0])"
   ]
  },
  {
   "cell_type": "code",
   "execution_count": 58,
   "id": "f99f90b4",
   "metadata": {},
   "outputs": [
    {
     "name": "stdout",
     "output_type": "stream",
     "text": [
      "American Popular Culture; American Studies and Ethnicity; Jewish American Studies; Native American Studies\n"
     ]
    }
   ],
   "source": [
    "print(departments[\"Minors\"][0])"
   ]
  },
  {
   "cell_type": "code",
   "execution_count": 59,
   "id": "c4260722",
   "metadata": {},
   "outputs": [
    {
     "name": "stdout",
     "output_type": "stream",
     "text": [
      "<class 'pandas.core.series.Series'>\n"
     ]
    }
   ],
   "source": [
    "print(type(departments['Majors']))"
   ]
  },
  {
   "cell_type": "markdown",
   "id": "366a4776",
   "metadata": {},
   "source": [
    "For each row, take the strings in the \"Majors\" and \"Minors\" column and split by ; to create lists"
   ]
  },
  {
   "cell_type": "code",
   "execution_count": 60,
   "id": "85f2e1b8",
   "metadata": {},
   "outputs": [],
   "source": [
    "departments[\"Majors_list\"] = departments[\"Majors\"].apply(lambda x: x.split(\"; \") if pd.notna(x) else [])\n",
    "departments[\"Minors_list\"] = departments[\"Minors\"].apply(lambda x: x.split(\"; \") if pd.notna(x) else [])"
   ]
  },
  {
   "cell_type": "code",
   "execution_count": 61,
   "id": "eef6502c",
   "metadata": {
    "scrolled": true
   },
   "outputs": [
    {
     "data": {
      "text/html": [
       "<div>\n",
       "<style scoped>\n",
       "    .dataframe tbody tr th:only-of-type {\n",
       "        vertical-align: middle;\n",
       "    }\n",
       "\n",
       "    .dataframe tbody tr th {\n",
       "        vertical-align: top;\n",
       "    }\n",
       "\n",
       "    .dataframe thead th {\n",
       "        text-align: right;\n",
       "    }\n",
       "</style>\n",
       "<table border=\"1\" class=\"dataframe\">\n",
       "  <thead>\n",
       "    <tr style=\"text-align: right;\">\n",
       "      <th></th>\n",
       "      <th>Department</th>\n",
       "      <th>Majors</th>\n",
       "      <th>Minors</th>\n",
       "      <th>Zone</th>\n",
       "      <th>Majors_list</th>\n",
       "      <th>Minors_list</th>\n",
       "    </tr>\n",
       "  </thead>\n",
       "  <tbody>\n",
       "    <tr>\n",
       "      <th>0</th>\n",
       "      <td>American Studies and Ethnicity</td>\n",
       "      <td>African American Studies; American Popular Cul...</td>\n",
       "      <td>American Popular Culture; American Studies and...</td>\n",
       "      <td>Humanities</td>\n",
       "      <td>[African American Studies, American Popular Cu...</td>\n",
       "      <td>[American Popular Culture, American Studies an...</td>\n",
       "    </tr>\n",
       "    <tr>\n",
       "      <th>1</th>\n",
       "      <td>Anthropology</td>\n",
       "      <td>Anthropology (tracks in Biological Anthropolog...</td>\n",
       "      <td>Folklore and Popular Culture; Food and Society...</td>\n",
       "      <td>Social Sciences</td>\n",
       "      <td>[Anthropology (tracks in Biological Anthropolo...</td>\n",
       "      <td>[Folklore and Popular Culture, Food and Societ...</td>\n",
       "    </tr>\n",
       "    <tr>\n",
       "      <th>2</th>\n",
       "      <td>Art History</td>\n",
       "      <td>Art History</td>\n",
       "      <td>Art History; Modern Art Markets and Ethics; Vi...</td>\n",
       "      <td>Humanities</td>\n",
       "      <td>[Art History]</td>\n",
       "      <td>[Art History, Modern Art Markets and Ethics, V...</td>\n",
       "    </tr>\n",
       "    <tr>\n",
       "      <th>3</th>\n",
       "      <td>Biological Sciences</td>\n",
       "      <td>Biological Sciences; Biological Sciences (Biot...</td>\n",
       "      <td>Biology and Business; Marine Biology; Natural ...</td>\n",
       "      <td>Natural Sciences and Mathematics</td>\n",
       "      <td>[Biological Sciences, Biological Sciences (Bio...</td>\n",
       "      <td>[Biology and Business, Marine Biology, Natural...</td>\n",
       "    </tr>\n",
       "    <tr>\n",
       "      <th>4</th>\n",
       "      <td>Chemistry</td>\n",
       "      <td>Biochemistry; Chemistry; Chemistry (Chemical B...</td>\n",
       "      <td>Chemistry; Environmental Chemistry and Sustain...</td>\n",
       "      <td>Natural Sciences and Mathematics</td>\n",
       "      <td>[Biochemistry, Chemistry, Chemistry (Chemical ...</td>\n",
       "      <td>[Chemistry, Environmental Chemistry and Sustai...</td>\n",
       "    </tr>\n",
       "  </tbody>\n",
       "</table>\n",
       "</div>"
      ],
      "text/plain": [
       "                       Department  \\\n",
       "0  American Studies and Ethnicity   \n",
       "1                    Anthropology   \n",
       "2                     Art History   \n",
       "3             Biological Sciences   \n",
       "4                       Chemistry   \n",
       "\n",
       "                                              Majors  \\\n",
       "0  African American Studies; American Popular Cul...   \n",
       "1  Anthropology (tracks in Biological Anthropolog...   \n",
       "2                                        Art History   \n",
       "3  Biological Sciences; Biological Sciences (Biot...   \n",
       "4  Biochemistry; Chemistry; Chemistry (Chemical B...   \n",
       "\n",
       "                                              Minors  \\\n",
       "0  American Popular Culture; American Studies and...   \n",
       "1  Folklore and Popular Culture; Food and Society...   \n",
       "2  Art History; Modern Art Markets and Ethics; Vi...   \n",
       "3  Biology and Business; Marine Biology; Natural ...   \n",
       "4  Chemistry; Environmental Chemistry and Sustain...   \n",
       "\n",
       "                               Zone  \\\n",
       "0                        Humanities   \n",
       "1                   Social Sciences   \n",
       "2                        Humanities   \n",
       "3  Natural Sciences and Mathematics   \n",
       "4  Natural Sciences and Mathematics   \n",
       "\n",
       "                                         Majors_list  \\\n",
       "0  [African American Studies, American Popular Cu...   \n",
       "1  [Anthropology (tracks in Biological Anthropolo...   \n",
       "2                                      [Art History]   \n",
       "3  [Biological Sciences, Biological Sciences (Bio...   \n",
       "4  [Biochemistry, Chemistry, Chemistry (Chemical ...   \n",
       "\n",
       "                                         Minors_list  \n",
       "0  [American Popular Culture, American Studies an...  \n",
       "1  [Folklore and Popular Culture, Food and Societ...  \n",
       "2  [Art History, Modern Art Markets and Ethics, V...  \n",
       "3  [Biology and Business, Marine Biology, Natural...  \n",
       "4  [Chemistry, Environmental Chemistry and Sustai...  "
      ]
     },
     "execution_count": 61,
     "metadata": {},
     "output_type": "execute_result"
    }
   ],
   "source": [
    "departments.head()"
   ]
  },
  {
   "cell_type": "markdown",
   "id": "6534106e",
   "metadata": {},
   "source": [
    "For each department, create a masked version of responses that only contains students interested in majors or minors in their department. Save that list of interested students to a csv with the department as the name"
   ]
  },
  {
   "cell_type": "code",
   "execution_count": 62,
   "id": "7e3c1e5d",
   "metadata": {},
   "outputs": [],
   "source": [
    "for dept_index, dept_name in departments.iterrows():\n",
    "    interested_students = responses[responses['Majors of interest/exploration: (You may select more than one major)'].isin(departments['Majors_list'][dept_index]) | \\\n",
    "                                    responses['Are you interested in information on one or more Dornsife minors? If so, please indicate minor(s) of interest.'].isin(departments['Minors_list'][dept_index])]\n",
    "    \n",
    "    filename = f'{dept_name[0]}.csv'\n",
    "    \n",
    "    # Save the filtered DataFrame to the CSV file\n",
    "    interested_students.to_csv(filename, index=False)"
   ]
  },
  {
   "cell_type": "code",
   "execution_count": null,
   "id": "6b9ec807",
   "metadata": {},
   "outputs": [],
   "source": []
  }
 ],
 "metadata": {
  "kernelspec": {
   "display_name": "Python 3 (ipykernel)",
   "language": "python",
   "name": "python3"
  },
  "language_info": {
   "codemirror_mode": {
    "name": "ipython",
    "version": 3
   },
   "file_extension": ".py",
   "mimetype": "text/x-python",
   "name": "python",
   "nbconvert_exporter": "python",
   "pygments_lexer": "ipython3",
   "version": "3.9.12"
  }
 },
 "nbformat": 4,
 "nbformat_minor": 5
}
